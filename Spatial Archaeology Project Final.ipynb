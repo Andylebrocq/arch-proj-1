{
  "nbformat": 4,
  "nbformat_minor": 0,
  "metadata": {
    "colab": {
      "name": "Untitled1.ipynb",
      "provenance": [],
      "include_colab_link": true
    },
    "kernelspec": {
      "name": "python3",
      "display_name": "Python 3"
    }
  },
  "cells": [
    {
      "cell_type": "markdown",
      "metadata": {
        "id": "view-in-github",
        "colab_type": "text"
      },
      "source": [
        "<a href=\"https://colab.research.google.com/github/Andylebrocq/arch-proj-1/blob/master/Spatial%20Archaeology%20Project%20Final.ipynb\" target=\"_parent\"><img src=\"https://colab.research.google.com/assets/colab-badge.svg\" alt=\"Open In Colab\"/></a>"
      ]
    },
    {
      "cell_type": "markdown",
      "metadata": {
        "id": "nMUS00vAxWBV",
        "colab_type": "text"
      },
      "source": [
        "# **Spatial Archaeology - Spatial Distances and Central Points**\n",
        "This notebook is designed to teach you how to use scipy.spatial.distance in order to locate a central space between a number of archaeological points.\n",
        "\n",
        "We are going to use some data around settlements in the Scottish Highlands during the Clearance Period to try and work out where we think larger nucleated towns and villages should have naturally formed against where new towns were actually built.\n",
        "\n",
        "We'll be using some free online sources to do a lot of the complicated bits and also the scipy.spatial.distance modelling tools to work this out (don't worry about the terrifying looking maths, it does it all for you... honest!!!).\n",
        "\n",
        "Oh yeah, we'll get to make some cool maps too! Enjoy.\n"
      ]
    },
    {
      "cell_type": "markdown",
      "metadata": {
        "id": "LqJ1gO53y6mE",
        "colab_type": "text"
      },
      "source": [
        "# Getting our Tools\n",
        "We're going to need a few different tools to work through this one.\n",
        "\n",
        "We need to import some, install others and know where to go for the rest\n",
        "\n",
        "##Import##\n",
        "Pandas\n",
        "\n",
        "Matplotlib\n",
        "\n",
        "Folium\n",
        "\n",
        "Numpy\n",
        "\n",
        "##Install & Import##\n",
        "Geopandas\n",
        "\n",
        "Scipy\n",
        "\n",
        "##Online Calculators##\n",
        "Converting your spatial co-ordinates:\n",
        "https://www.bgs.ac.uk/data/webservices/convertForm.cfm#bngToLatLng\n",
        "\n",
        "Calculating a geospatial central point:\n",
        "http://www.geomidpoint.com/#using\n"
      ]
    },
    {
      "cell_type": "code",
      "metadata": {
        "id": "744--nL-xVDH",
        "colab_type": "code",
        "colab": {}
      },
      "source": [
        "import pandas as pd\n",
        "import matplotlib\n",
        "import folium\n",
        "import numpy as np"
      ],
      "execution_count": 0,
      "outputs": []
    },
    {
      "cell_type": "code",
      "metadata": {
        "id": "UdFe7d723QSA",
        "colab_type": "code",
        "colab": {}
      },
      "source": [
        "!pip install geopandas\n",
        "import geopandas as gpd\n",
        "\n",
        "!pip install scipy\n",
        "import scipy as sp"
      ],
      "execution_count": 0,
      "outputs": []
    },
    {
      "cell_type": "markdown",
      "metadata": {
        "id": "PoBjYZa63iLb",
        "colab_type": "text"
      },
      "source": [
        "OK now we should have everything we need to get started except for ...\n",
        "\n",
        "##Data!!!##\n",
        "\n",
        "The core data we will be using today was obtained intially from Canmore which and is open source.  The data relates specifically to sites in Sutherland in the Highlands of Scotland, and are specifically settlements cleared during the Highland Clearances of ca 1750-1850 AD.\n",
        "\n",
        "The data has been cleaned up in two key ways.  The Site Type has been altered to only reflect clearance ssettlements and not other archaeological data from each site.  Secondly I have had to use an online tool to manually change the Site Easting and Northing imformation to decimal Lat/Long co-ordinates.\n",
        "\n",
        "That tool can be found here and is super simple to use:\n",
        "\n",
        "https://www.bgs.ac.uk/data/webservices/convertForm.cfm#bngToLatLng\n",
        "\n",
        "We can read in this initial data as below:\n"
      ]
    },
    {
      "cell_type": "code",
      "metadata": {
        "id": "2CQnqJHh53AC",
        "colab_type": "code",
        "colab": {}
      },
      "source": [
        "clearance_sites = pd.read_csv(\"https://raw.githubusercontent.com/Andylebrocq/arch-proj-1/master/Clearance.csv\")\n",
        "clearance_sites.head()"
      ],
      "execution_count": 0,
      "outputs": []
    },
    {
      "cell_type": "markdown",
      "metadata": {
        "id": "iCFSMMcU8MzE",
        "colab_type": "text"
      },
      "source": [
        "As you should be able to see we have the spatial information in two forms, site names and site types.    Next we want to visualise this on a fairly basic level, just to check that I have done the conversions correctly (ie are all these points still in Sutherland or have I managed to transfer some of them to the North Sea?)\n"
      ]
    },
    {
      "cell_type": "code",
      "metadata": {
        "id": "Re_afRXP8vag",
        "colab_type": "code",
        "colab": {}
      },
      "source": [
        "location = clearance_sites['LATITUDE'].mean(), clearance_sites['LONGITUDE'].mean()\n",
        "\n",
        "m = folium.Map(location=location,zoom_start=10)\n",
        "\n",
        "for i in range(0,len(clearance_sites)):\n",
        "    folium.Marker([clearance_sites['LATITUDE'].iloc[i],clearance_sites['LONGITUDE'].iloc[i]]).add_to(m)\n",
        "        \n",
        "#To display the map simply ask for the object (called 'm') representation\n",
        "m"
      ],
      "execution_count": 0,
      "outputs": []
    },
    {
      "cell_type": "markdown",
      "metadata": {
        "id": "zgy8zMQk-XwW",
        "colab_type": "text"
      },
      "source": [
        "Great news!  Everything is still on dry land, and in such as way as we can easily identify a couple of patterns.\n",
        "\n",
        "For example, all of these points are geographically inland settlements.  We can also see that a number of them exist in small clusters.\n",
        "\n",
        "\n",
        "##What To Do With All This Data?\n",
        "\n",
        "Now we have our data input and checked out for issues what should we do with it?\n",
        "Well let's ask an archaeological question.\n",
        "\n",
        "What space should have been occupied by larger settlements had these small clusters been allowed to grow naturally?\n",
        "\n",
        "So, how do we do this?\n",
        "\n",
        "There are a number of ways, all of which use very scary and complicated looking mathematical formulae.  Most of these would involve us having to convert our co-ordinates again, into either radians or cartesian versions.... \n",
        "\n",
        "For instance to calculate all of our co-ordinates into cartesian we would  need to run the below calculation for each set:\n",
        "\n",
        "\n",
        "x = R * cos(lat) * cos(lon)\n",
        "\n",
        "y = R * cos(lat) * sin(lon)\n",
        "\n",
        "z = R *sin(lat)\n",
        "\n",
        "However, we would then need to convert our co-ordinates back again once our various centre points had been found.\n",
        "\n",
        "\n",
        "The good news for us is someone has kindly put together a tool to do all this for us already and it can be found here:\n",
        "\n",
        "http://www.geomidpoint.com/#using\n",
        "\n",
        "\n",
        "**Note**: If you are interested in how this works, the links below give explanations of how this all works:\n",
        "\n",
        "https://stackoverflow.com/questions/10140029/convert-latitude-longitude-in-degree-radians\n",
        "\n",
        "https://stackoverflow.com/questions/1185408/converting-from-longitude-latitude-to-cartesian-coordinates\n",
        "\n"
      ]
    },
    {
      "cell_type": "code",
      "metadata": {
        "id": "-5zeD_SxBrE-",
        "colab_type": "code",
        "colab": {}
      },
      "source": [
        "projected_centres = pd.read_csv(\"https://raw.githubusercontent.com/Andylebrocq/arch-proj-1/master/Projected.csv\")\n",
        "projected_centres.head()"
      ],
      "execution_count": 0,
      "outputs": []
    },
    {
      "cell_type": "markdown",
      "metadata": {
        "id": "hmLci2oPCQ7K",
        "colab_type": "text"
      },
      "source": [
        "As you can see, I have now read in the data for 7 sites that may have become centres for nucleated settlements based on our original data.\n",
        "\n",
        "I have had to exclude a number of the settlements as they were A) too far away from other sites to really be able to be included in their group, or  B) were on the other of a loch!  (there's a frustrating number of lochs in Sutherland).\n",
        "\n",
        "\n",
        "lets see where these points sit in a basic map."
      ]
    },
    {
      "cell_type": "code",
      "metadata": {
        "id": "8xk4isbWCzLT",
        "colab_type": "code",
        "colab": {}
      },
      "source": [
        "location = projected_centres['LATITUDE'].mean(), clearance_sites['LONGITUDE'].mean()\n",
        "\n",
        "m = folium.Map(location=location,zoom_start=10)\n",
        "\n",
        "for i in range(0,len(projected_centres)):\n",
        "    folium.Marker([projected_centres['LATITUDE'].iloc[i],projected_centres['LONGITUDE'].iloc[i]]).add_to(m)\n",
        "        \n",
        "m"
      ],
      "execution_count": 0,
      "outputs": []
    },
    {
      "cell_type": "markdown",
      "metadata": {
        "id": "lSrp_CrQDp8h",
        "colab_type": "text"
      },
      "source": [
        "The final data we need to be able to run our spatial comparisons between projected settlement centres and actual settlement centres are the towns actually built in the period for those cleared from their settlements."
      ]
    },
    {
      "cell_type": "code",
      "metadata": {
        "id": "ZoXwki1EIjEr",
        "colab_type": "code",
        "colab": {}
      },
      "source": [
        "new_settlements = pd.read_csv(\"https://raw.githubusercontent.com/Andylebrocq/arch-proj-1/master/New.csv\")\n",
        "new_settlements.head()"
      ],
      "execution_count": 0,
      "outputs": []
    },
    {
      "cell_type": "markdown",
      "metadata": {
        "id": "0Lzoz8CUIyke",
        "colab_type": "text"
      },
      "source": [
        "This data had to be drawn together from historical information and then manually locating the sites and co-ordinates.\n",
        "\n",
        "Lets have a look at where the people cleared from our first set of sites were moved to over the century"
      ]
    },
    {
      "cell_type": "code",
      "metadata": {
        "id": "eBQ4nIbXJHjk",
        "colab_type": "code",
        "colab": {}
      },
      "source": [
        "location = new_settlements['LATITUDE'].mean(), new_settlements['LONGITUDE'].mean()\n",
        "\n",
        "m = folium.Map(location=location,zoom_start=9)\n",
        "\n",
        "for i in range(0,len(new_settlements)):\n",
        "    folium.Marker([new_settlements['LATITUDE'].iloc[i],new_settlements['LONGITUDE'].iloc[i]]).add_to(m)\n",
        "        \n",
        "m"
      ],
      "execution_count": 0,
      "outputs": []
    },
    {
      "cell_type": "markdown",
      "metadata": {
        "id": "MrDSsJ9pJiJX",
        "colab_type": "text"
      },
      "source": [
        "Visually we can start to see a couple of patterns from our three sets of data, the pre-clearance settlements were close togather, generally inland and central to the region.  The projected settlements reflected this, but the actual newly built settlements seem much more spread apart and on the periphery, coastal and boundaries.\n",
        "\n",
        "\n",
        "Let's try and make this a wee bit easier to view.\n",
        "\n",
        "\n",
        "##Bringing Our Data Together\n",
        "\n",
        "First things first, we have 3 sets of data, and 3 maps.  This takes a lot of scrolling to see what is what.  Lets join up all our data.  \n",
        "\n",
        "Now, as I like to keep things easy and I had to create 2 of the tables, I have been able to keep the same headings and formats in each.  We could take the easy route and just copy and paste it all together, but our notebook can do this for us.\n",
        "\n",
        "We need to use a process called concantination"
      ]
    },
    {
      "cell_type": "code",
      "metadata": {
        "id": "djLIaQ5DNQ1r",
        "colab_type": "code",
        "colab": {}
      },
      "source": [
        "#combine the two datasets together to make a big dataset we call 'all_data'\n",
        "all_data = pd.concat([clearance_sites,projected_centres,new_settlements], sort=False, ignore_index=True)\n",
        "all_data.head()"
      ],
      "execution_count": 0,
      "outputs": []
    },
    {
      "cell_type": "markdown",
      "metadata": {
        "id": "hh2JwPMsOmDj",
        "colab_type": "text"
      },
      "source": [
        "Success!!   Now we can try making a maps that help display what our three previous maps did, but in clearer visuals.\n",
        "\n",
        "Lets install a couple of other map aking tools"
      ]
    },
    {
      "cell_type": "code",
      "metadata": {
        "id": "0D4iAdJzQP2I",
        "colab_type": "code",
        "colab": {}
      },
      "source": [
        "%matplotlib inline\n",
        "import seaborn as sns\n",
        "import matplotlib.pyplot as plt\n",
        "from folium.plugins import MeasureControl"
      ],
      "execution_count": 0,
      "outputs": []
    },
    {
      "cell_type": "markdown",
      "metadata": {
        "id": "JZ_Av3_RS1Va",
        "colab_type": "text"
      },
      "source": [
        "Lets create a base map, based on the central point of all our co-rdinates (Again easiest just to use the online tool)"
      ]
    },
    {
      "cell_type": "code",
      "metadata": {
        "id": "c2MaYfNIRzbP",
        "colab_type": "code",
        "colab": {}
      },
      "source": [
        "def generateBaseMap(default_location=[58.213398,-4.158034 ], default_zoom_start=9):\n",
        "    base_map = folium.Map(location=default_location, control_scale=True, zoom_start=default_zoom_start)\n",
        "    return base_map"
      ],
      "execution_count": 0,
      "outputs": []
    },
    {
      "cell_type": "code",
      "metadata": {
        "id": "gLJkMKaZRxwP",
        "colab_type": "code",
        "colab": {}
      },
      "source": [
        "base_map = generateBaseMap()\n",
        "base_map"
      ],
      "execution_count": 0,
      "outputs": []
    },
    {
      "cell_type": "markdown",
      "metadata": {
        "id": "Is6Ybi11dVLn",
        "colab_type": "text"
      },
      "source": [
        "Great thats working too.  Lets try mapping all of our points, initial pre-clearance settlements, projected centres and new settlements on the one map.\n",
        "\n",
        "We need to create 3 categories of site type in this case."
      ]
    },
    {
      "cell_type": "code",
      "metadata": {
        "id": "PQWtWEvVjwNw",
        "colab_type": "code",
        "colab": {}
      },
      "source": [
        "all_data['SITE TYPE'].value_counts()"
      ],
      "execution_count": 0,
      "outputs": []
    },
    {
      "cell_type": "markdown",
      "metadata": {
        "id": "dnw6xshoj8WI",
        "colab_type": "text"
      },
      "source": [
        "What I have done here is to run a quick count on each of the tepe of site, now to map them"
      ]
    },
    {
      "cell_type": "code",
      "metadata": {
        "id": "H5fx4QY2uL6l",
        "colab_type": "code",
        "colab": {}
      },
      "source": [
        "#codecell_makeabasicmap_ManipulatingyourData_UsingSymbology\n",
        "\n",
        "#now make a map just like you did before. Note that this time we're adding a scale bar with 'control_scale'\n",
        "location = all_data['LATITUDE'].mean(), all_data['LONGITUDE'].mean()\n",
        "m = folium.Map(location=location,zoom_start=10,control_scale = True)\n",
        "\n",
        "#Assign different colours to the two large site categories - B and C in this case\n",
        "for i in range(0,len(all_data)):\n",
        "\n",
        "\n",
        "    site_type = all_data['SITE TYPE'].iloc[i]\n",
        "    if site_type == 'New Settlement':\n",
        "        color = 'blue'\n",
        "    elif site_type == 'Projected':\n",
        "        color = 'green'\n",
        "    else:\n",
        "        color = 'red'\n",
        "    \n",
        "# add the markers to the map, using the locations and colours    \n",
        "    folium.Marker([all_data['LATITUDE'].iloc[i],all_data['LONGITUDE'].iloc[i]],icon=folium.Icon(color=color)).add_to(m)\n",
        "\n",
        "#type 'm' for map (the variable you set above) to tell the notebook to display your map\n",
        "m"
      ],
      "execution_count": 0,
      "outputs": []
    },
    {
      "cell_type": "markdown",
      "metadata": {
        "id": "5NSzmHu9qQli",
        "colab_type": "text"
      },
      "source": [
        "We can now see all of our points.  Red for pre-clearance settlements, blue for the projected centre points, and finally green for the actual new settlement sites.  \n",
        "\n",
        "This isn't super clear, so what are we trying to achieve?  We want to see where the differences in the projected spaces and the new settlements, so lets see if we can improve on those.\n",
        "\n",
        "Let's set up two maps side by side so we can see our conclusions clearly"
      ]
    },
    {
      "cell_type": "code",
      "metadata": {
        "id": "Bw6wzquavBtb",
        "colab_type": "code",
        "colab": {}
      },
      "source": [
        "new_projected = pd.concat([projected_centres,new_settlements], sort=False, ignore_index=True)\n",
        "new_projected.head()"
      ],
      "execution_count": 0,
      "outputs": []
    },
    {
      "cell_type": "markdown",
      "metadata": {
        "id": "-f4mjilhvaIw",
        "colab_type": "text"
      },
      "source": [
        "We've taken just the New Settlement and Projected Settlement data out to map this."
      ]
    },
    {
      "cell_type": "code",
      "metadata": {
        "id": "17M_JVxgw2KF",
        "colab_type": "code",
        "colab": {}
      },
      "source": [
        "location = new_projected['LATITUDE'].mean(), new_projected['LONGITUDE'].mean()\n",
        "m = folium.Map(location=location,zoom_start=10,control_scale = True)\n",
        "\n",
        "for i in range(0,len(new_projected)):\n",
        "\n",
        "\n",
        "    site_type = new_projected['SITE TYPE'].iloc[i]\n",
        "    if site_type == 'New Settlement':\n",
        "        color = 'blue'\n",
        "    elif site_type == 'Projected':\n",
        "        color = 'green'\n",
        "    else:\n",
        "        color = 'red'\n",
        "      \n",
        "    folium.Marker([new_projected['LATITUDE'].iloc[i],new_projected['LONGITUDE'].iloc[i]],icon=folium.Icon(color=color)).add_to(m)\n",
        "\n",
        "m"
      ],
      "execution_count": 0,
      "outputs": []
    },
    {
      "cell_type": "markdown",
      "metadata": {
        "id": "KPWVi0jsuSoe",
        "colab_type": "text"
      },
      "source": [
        "##Conclusions\n",
        "\n",
        "We asked if we could see a change in likely settlement centres over the Highland Clearance Period of 1750-1850.  By calculating midpoints of local clusters of cleared settlements, and then mapping them against the settlement centres that were built over the period, we can see that we get some idea of how this changed:\n",
        "\n",
        "From the centre to the periphery!\n",
        "\n",
        "Of course midpoints are only one way of calculating likely settlement locations,next week we will look at how to factor in geographic and environmental factors, like lochs and big hills.... but that's for next time!"
      ]
    }
  ]
}