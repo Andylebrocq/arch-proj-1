{
  "nbformat": 4,
  "nbformat_minor": 0,
  "metadata": {
    "colab": {
      "name": "Untitled1.ipynb",
      "provenance": [],
      "include_colab_link": true
    },
    "kernelspec": {
      "name": "python3",
      "display_name": "Python 3"
    }
  },
  "cells": [
    {
      "cell_type": "markdown",
      "metadata": {
        "id": "view-in-github",
        "colab_type": "text"
      },
      "source": [
        "<a href=\"https://colab.research.google.com/github/Andylebrocq/arch-proj-1/blob/master/GIS%20Project%20Final.ipynb\" target=\"_parent\"><img src=\"https://colab.research.google.com/assets/colab-badge.svg\" alt=\"Open In Colab\"/></a>"
      ]
    },
    {
      "cell_type": "markdown",
      "metadata": {
        "id": "nMUS00vAxWBV",
        "colab_type": "text"
      },
      "source": [
        "# **Spatial Archaeology - Spatial Distances and Central Points**\n",
        "This notebook is designed to teach you how to use scipy.spatial.distance in order to locate a central space between a number of archaeological points.\n",
        "\n",
        "We are going to use some data around settlements in the Scottish Highlands during the Clearance Period to try and work out where we think larger nucleated towns and villages should have naturally formed against where new towns were actually built.\n",
        "\n",
        "We'll be using some free online sources to do a lot of the complicated bits and also the scipy.spatial.distance modelling tools to work this out (don't worry about the terrifying looking maths, it does it all for you... honest!!!).\n",
        "\n",
        "Oh yeah, we'll get to make some cool maps too! Enjoy.\n"
      ]
    },
    {
      "cell_type": "markdown",
      "metadata": {
        "id": "LqJ1gO53y6mE",
        "colab_type": "text"
      },
      "source": [
        "# Getting our Tools\n",
        "We're going to need a few different tools to work through this one.\n",
        "\n",
        "We need to import some, install others and know where to go for the rest\n",
        "\n",
        "##Import##\n",
        "Pandas\n",
        "\n",
        "Matplotlib\n",
        "\n",
        "Folium\n",
        "\n",
        "Numpy\n",
        "\n",
        "##Install & Import##\n",
        "Geopandas\n",
        "\n",
        "Scipy\n",
        "\n",
        "##Online Calculators##\n",
        "Converting your spatial co-ordinates:\n",
        "https://www.bgs.ac.uk/data/webservices/convertForm.cfm#bngToLatLng\n",
        "\n",
        "Calculating a geospatial central point:\n",
        "http://www.geomidpoint.com/#using\n"
      ]
    },
    {
      "cell_type": "code",
      "metadata": {
        "id": "744--nL-xVDH",
        "colab_type": "code",
        "colab": {}
      },
      "source": [
        "import pandas as pd\n",
        "import matplotlib\n",
        "import folium\n",
        "import numpy as np"
      ],
      "execution_count": 0,
      "outputs": []
    },
    {
      "cell_type": "code",
      "metadata": {
        "id": "UdFe7d723QSA",
        "colab_type": "code",
        "outputId": "a0bd01af-a80f-422d-f570-4ad65c5ffe77",
        "colab": {
          "base_uri": "https://localhost:8080/",
          "height": 476
        }
      },
      "source": [
        "!pip install geopandas\n",
        "import geopandas as gpd\n",
        "\n",
        "!pip install scipy\n",
        "import scipy as sp"
      ],
      "execution_count": 0,
      "outputs": [
        {
          "output_type": "stream",
          "text": [
            "Collecting geopandas\n",
            "\u001b[?25l  Downloading https://files.pythonhosted.org/packages/5b/0c/e6c99e561b03482220f00443f610ccf4dce9b50f4b1093d735f93c6fc8c6/geopandas-0.6.2-py2.py3-none-any.whl (919kB)\n",
            "\r\u001b[K     |▍                               | 10kB 20.5MB/s eta 0:00:01\r\u001b[K     |▊                               | 20kB 6.3MB/s eta 0:00:01\r\u001b[K     |█                               | 30kB 8.8MB/s eta 0:00:01\r\u001b[K     |█▍                              | 40kB 5.6MB/s eta 0:00:01\r\u001b[K     |█▉                              | 51kB 6.8MB/s eta 0:00:01\r\u001b[K     |██▏                             | 61kB 8.0MB/s eta 0:00:01\r\u001b[K     |██▌                             | 71kB 9.1MB/s eta 0:00:01\r\u001b[K     |██▉                             | 81kB 10.2MB/s eta 0:00:01\r\u001b[K     |███▏                            | 92kB 11.3MB/s eta 0:00:01\r\u001b[K     |███▋                            | 102kB 9.0MB/s eta 0:00:01\r\u001b[K     |████                            | 112kB 9.0MB/s eta 0:00:01\r\u001b[K     |████▎                           | 122kB 9.0MB/s eta 0:00:01\r\u001b[K     |████▋                           | 133kB 9.0MB/s eta 0:00:01\r\u001b[K     |█████                           | 143kB 9.0MB/s eta 0:00:01\r\u001b[K     |█████▍                          | 153kB 9.0MB/s eta 0:00:01\r\u001b[K     |█████▊                          | 163kB 9.0MB/s eta 0:00:01\r\u001b[K     |██████                          | 174kB 9.0MB/s eta 0:00:01\r\u001b[K     |██████▍                         | 184kB 9.0MB/s eta 0:00:01\r\u001b[K     |██████▊                         | 194kB 9.0MB/s eta 0:00:01\r\u001b[K     |███████▏                        | 204kB 9.0MB/s eta 0:00:01\r\u001b[K     |███████▌                        | 215kB 9.0MB/s eta 0:00:01\r\u001b[K     |███████▉                        | 225kB 9.0MB/s eta 0:00:01\r\u001b[K     |████████▏                       | 235kB 9.0MB/s eta 0:00:01\r\u001b[K     |████████▌                       | 245kB 9.0MB/s eta 0:00:01\r\u001b[K     |█████████                       | 256kB 9.0MB/s eta 0:00:01\r\u001b[K     |█████████▎                      | 266kB 9.0MB/s eta 0:00:01\r\u001b[K     |█████████▋                      | 276kB 9.0MB/s eta 0:00:01\r\u001b[K     |██████████                      | 286kB 9.0MB/s eta 0:00:01\r\u001b[K     |██████████▎                     | 296kB 9.0MB/s eta 0:00:01\r\u001b[K     |██████████▊                     | 307kB 9.0MB/s eta 0:00:01\r\u001b[K     |███████████                     | 317kB 9.0MB/s eta 0:00:01\r\u001b[K     |███████████▍                    | 327kB 9.0MB/s eta 0:00:01\r\u001b[K     |███████████▊                    | 337kB 9.0MB/s eta 0:00:01\r\u001b[K     |████████████                    | 348kB 9.0MB/s eta 0:00:01\r\u001b[K     |████████████▌                   | 358kB 9.0MB/s eta 0:00:01\r\u001b[K     |████████████▉                   | 368kB 9.0MB/s eta 0:00:01\r\u001b[K     |█████████████▏                  | 378kB 9.0MB/s eta 0:00:01\r\u001b[K     |█████████████▌                  | 389kB 9.0MB/s eta 0:00:01\r\u001b[K     |██████████████                  | 399kB 9.0MB/s eta 0:00:01\r\u001b[K     |██████████████▎                 | 409kB 9.0MB/s eta 0:00:01\r\u001b[K     |██████████████▋                 | 419kB 9.0MB/s eta 0:00:01\r\u001b[K     |███████████████                 | 430kB 9.0MB/s eta 0:00:01\r\u001b[K     |███████████████▎                | 440kB 9.0MB/s eta 0:00:01\r\u001b[K     |███████████████▊                | 450kB 9.0MB/s eta 0:00:01\r\u001b[K     |████████████████                | 460kB 9.0MB/s eta 0:00:01\r\u001b[K     |████████████████▍               | 471kB 9.0MB/s eta 0:00:01\r\u001b[K     |████████████████▊               | 481kB 9.0MB/s eta 0:00:01\r\u001b[K     |█████████████████               | 491kB 9.0MB/s eta 0:00:01\r\u001b[K     |█████████████████▌              | 501kB 9.0MB/s eta 0:00:01\r\u001b[K     |█████████████████▉              | 512kB 9.0MB/s eta 0:00:01\r\u001b[K     |██████████████████▏             | 522kB 9.0MB/s eta 0:00:01\r\u001b[K     |██████████████████▌             | 532kB 9.0MB/s eta 0:00:01\r\u001b[K     |██████████████████▉             | 542kB 9.0MB/s eta 0:00:01\r\u001b[K     |███████████████████▎            | 552kB 9.0MB/s eta 0:00:01\r\u001b[K     |███████████████████▋            | 563kB 9.0MB/s eta 0:00:01\r\u001b[K     |████████████████████            | 573kB 9.0MB/s eta 0:00:01\r\u001b[K     |████████████████████▎           | 583kB 9.0MB/s eta 0:00:01\r\u001b[K     |████████████████████▋           | 593kB 9.0MB/s eta 0:00:01\r\u001b[K     |█████████████████████           | 604kB 9.0MB/s eta 0:00:01\r\u001b[K     |█████████████████████▍          | 614kB 9.0MB/s eta 0:00:01\r\u001b[K     |█████████████████████▊          | 624kB 9.0MB/s eta 0:00:01\r\u001b[K     |██████████████████████          | 634kB 9.0MB/s eta 0:00:01\r\u001b[K     |██████████████████████▍         | 645kB 9.0MB/s eta 0:00:01\r\u001b[K     |██████████████████████▉         | 655kB 9.0MB/s eta 0:00:01\r\u001b[K     |███████████████████████▏        | 665kB 9.0MB/s eta 0:00:01\r\u001b[K     |███████████████████████▌        | 675kB 9.0MB/s eta 0:00:01\r\u001b[K     |███████████████████████▉        | 686kB 9.0MB/s eta 0:00:01\r\u001b[K     |████████████████████████▏       | 696kB 9.0MB/s eta 0:00:01\r\u001b[K     |████████████████████████▋       | 706kB 9.0MB/s eta 0:00:01\r\u001b[K     |█████████████████████████       | 716kB 9.0MB/s eta 0:00:01\r\u001b[K     |█████████████████████████▎      | 727kB 9.0MB/s eta 0:00:01\r\u001b[K     |█████████████████████████▋      | 737kB 9.0MB/s eta 0:00:01\r\u001b[K     |██████████████████████████      | 747kB 9.0MB/s eta 0:00:01\r\u001b[K     |██████████████████████████▍     | 757kB 9.0MB/s eta 0:00:01\r\u001b[K     |██████████████████████████▊     | 768kB 9.0MB/s eta 0:00:01\r\u001b[K     |███████████████████████████     | 778kB 9.0MB/s eta 0:00:01\r\u001b[K     |███████████████████████████▍    | 788kB 9.0MB/s eta 0:00:01\r\u001b[K     |███████████████████████████▉    | 798kB 9.0MB/s eta 0:00:01\r\u001b[K     |████████████████████████████▏   | 808kB 9.0MB/s eta 0:00:01\r\u001b[K     |████████████████████████████▌   | 819kB 9.0MB/s eta 0:00:01\r\u001b[K     |████████████████████████████▉   | 829kB 9.0MB/s eta 0:00:01\r\u001b[K     |█████████████████████████████▏  | 839kB 9.0MB/s eta 0:00:01\r\u001b[K     |█████████████████████████████▋  | 849kB 9.0MB/s eta 0:00:01\r\u001b[K     |██████████████████████████████  | 860kB 9.0MB/s eta 0:00:01\r\u001b[K     |██████████████████████████████▎ | 870kB 9.0MB/s eta 0:00:01\r\u001b[K     |██████████████████████████████▋ | 880kB 9.0MB/s eta 0:00:01\r\u001b[K     |███████████████████████████████ | 890kB 9.0MB/s eta 0:00:01\r\u001b[K     |███████████████████████████████▍| 901kB 9.0MB/s eta 0:00:01\r\u001b[K     |███████████████████████████████▊| 911kB 9.0MB/s eta 0:00:01\r\u001b[K     |████████████████████████████████| 921kB 9.0MB/s \n",
            "\u001b[?25hRequirement already satisfied: shapely in /usr/local/lib/python3.6/dist-packages (from geopandas) (1.6.4.post2)\n",
            "Collecting fiona\n",
            "\u001b[?25l  Downloading https://files.pythonhosted.org/packages/50/f7/9899f8a9a2e38601472fe1079ce5088f58833221c8b8507d8b5eafd5404a/Fiona-1.8.13-cp36-cp36m-manylinux1_x86_64.whl (11.8MB)\n",
            "\u001b[K     |████████████████████████████████| 11.8MB 200kB/s \n",
            "\u001b[?25hRequirement already satisfied: pandas>=0.23.0 in /usr/local/lib/python3.6/dist-packages (from geopandas) (0.25.3)\n",
            "Collecting pyproj\n",
            "\u001b[?25l  Downloading https://files.pythonhosted.org/packages/d6/70/eedc98cd52b86de24a1589c762612a98bea26cde649ffdd60c1db396cce8/pyproj-2.4.2.post1-cp36-cp36m-manylinux2010_x86_64.whl (10.1MB)\n",
            "\u001b[K     |████████████████████████████████| 10.1MB 32.8MB/s \n",
            "\u001b[?25hRequirement already satisfied: attrs>=17 in /usr/local/lib/python3.6/dist-packages (from fiona->geopandas) (19.3.0)\n",
            "Collecting click-plugins>=1.0\n",
            "  Downloading https://files.pythonhosted.org/packages/e9/da/824b92d9942f4e472702488857914bdd50f73021efea15b4cad9aca8ecef/click_plugins-1.1.1-py2.py3-none-any.whl\n",
            "Requirement already satisfied: six>=1.7 in /usr/local/lib/python3.6/dist-packages (from fiona->geopandas) (1.12.0)\n",
            "Collecting munch\n",
            "  Downloading https://files.pythonhosted.org/packages/cc/ab/85d8da5c9a45e072301beb37ad7f833cd344e04c817d97e0cc75681d248f/munch-2.5.0-py2.py3-none-any.whl\n",
            "Requirement already satisfied: click<8,>=4.0 in /usr/local/lib/python3.6/dist-packages (from fiona->geopandas) (7.0)\n",
            "Collecting cligj>=0.5\n",
            "  Downloading https://files.pythonhosted.org/packages/e4/be/30a58b4b0733850280d01f8bd132591b4668ed5c7046761098d665ac2174/cligj-0.5.0-py3-none-any.whl\n",
            "Requirement already satisfied: python-dateutil>=2.6.1 in /usr/local/lib/python3.6/dist-packages (from pandas>=0.23.0->geopandas) (2.6.1)\n",
            "Requirement already satisfied: numpy>=1.13.3 in /usr/local/lib/python3.6/dist-packages (from pandas>=0.23.0->geopandas) (1.17.4)\n",
            "Requirement already satisfied: pytz>=2017.2 in /usr/local/lib/python3.6/dist-packages (from pandas>=0.23.0->geopandas) (2018.9)\n",
            "Installing collected packages: click-plugins, munch, cligj, fiona, pyproj, geopandas\n",
            "Successfully installed click-plugins-1.1.1 cligj-0.5.0 fiona-1.8.13 geopandas-0.6.2 munch-2.5.0 pyproj-2.4.2.post1\n",
            "Requirement already satisfied: scipy in /usr/local/lib/python3.6/dist-packages (1.3.3)\n",
            "Requirement already satisfied: numpy>=1.13.3 in /usr/local/lib/python3.6/dist-packages (from scipy) (1.17.4)\n"
          ],
          "name": "stdout"
        }
      ]
    },
    {
      "cell_type": "markdown",
      "metadata": {
        "id": "PoBjYZa63iLb",
        "colab_type": "text"
      },
      "source": [
        "OK now we should have everything we need to get started except for ...\n",
        "\n",
        "##Data!!!##\n",
        "\n",
        "The core data we will be using today was obtained intially from Canmore which and is open source.  The data relates specifically to sites in Sutherland in the Highlands of Scotland, and are specifically settlements cleared during the Highland Clearances of ca 1750-1850 AD.\n",
        "\n",
        "The data has been cleaned up in two key ways.  The Site Type has been altered to only reflect clearance ssettlements and not other archaeological data from each site.  Secondly I have had to use an online tool to manually change the Site Easting and Northing imformation to decimal Lat/Long co-ordinates.\n",
        "\n",
        "That tool can be found here and is super simple to use:\n",
        "\n",
        "https://www.bgs.ac.uk/data/webservices/convertForm.cfm#bngToLatLng\n",
        "\n",
        "We can read in this initial data as below:\n"
      ]
    },
    {
      "cell_type": "code",
      "metadata": {
        "id": "2CQnqJHh53AC",
        "colab_type": "code",
        "outputId": "ddabc583-8566-496a-a306-76a5125ce011",
        "colab": {
          "base_uri": "https://localhost:8080/",
          "height": 204
        }
      },
      "source": [
        "clearance_sites = pd.read_csv(\"https://raw.githubusercontent.com/Andylebrocq/arch-proj-1/master/Clearance.csv\")\n",
        "clearance_sites.head()"
      ],
      "execution_count": 0,
      "outputs": [
        {
          "output_type": "execute_result",
          "data": {
            "text/html": [
              "<div>\n",
              "<style scoped>\n",
              "    .dataframe tbody tr th:only-of-type {\n",
              "        vertical-align: middle;\n",
              "    }\n",
              "\n",
              "    .dataframe tbody tr th {\n",
              "        vertical-align: top;\n",
              "    }\n",
              "\n",
              "    .dataframe thead th {\n",
              "        text-align: right;\n",
              "    }\n",
              "</style>\n",
              "<table border=\"1\" class=\"dataframe\">\n",
              "  <thead>\n",
              "    <tr style=\"text-align: right;\">\n",
              "      <th></th>\n",
              "      <th>CANMORE ID</th>\n",
              "      <th>SITE NUMBER</th>\n",
              "      <th>SITE NAME</th>\n",
              "      <th>SITE TYPE</th>\n",
              "      <th>SITE EASTING</th>\n",
              "      <th>SITE NORTHING</th>\n",
              "      <th>LATITUDE</th>\n",
              "      <th>LONGITUDE</th>\n",
              "      <th>COUNCIL</th>\n",
              "      <th>COUNTY</th>\n",
              "      <th>PARISH</th>\n",
              "      <th>NGR</th>\n",
              "    </tr>\n",
              "  </thead>\n",
              "  <tbody>\n",
              "    <tr>\n",
              "      <th>0</th>\n",
              "      <td>7399</td>\n",
              "      <td>NC96SW 3</td>\n",
              "      <td>Deasphollag</td>\n",
              "      <td>Clearance Settlement</td>\n",
              "      <td>290400</td>\n",
              "      <td>960200</td>\n",
              "      <td>58.516106</td>\n",
              "      <td>-3.883148</td>\n",
              "      <td>HIGHLAND</td>\n",
              "      <td>SUTHERLAND</td>\n",
              "      <td>FARR</td>\n",
              "      <td>NC 904 602</td>\n",
              "    </tr>\n",
              "    <tr>\n",
              "      <th>1</th>\n",
              "      <td>6238</td>\n",
              "      <td>NC75NW 35</td>\n",
              "      <td>Achcoillenaborgie</td>\n",
              "      <td>Clearance Settlement</td>\n",
              "      <td>271500</td>\n",
              "      <td>959300</td>\n",
              "      <td>58.502863</td>\n",
              "      <td>-4.206829</td>\n",
              "      <td>HIGHLAND</td>\n",
              "      <td>SUTHERLAND</td>\n",
              "      <td>FARR</td>\n",
              "      <td>NC 715 593</td>\n",
              "    </tr>\n",
              "    <tr>\n",
              "      <th>2</th>\n",
              "      <td>6239</td>\n",
              "      <td>NC75NW 36</td>\n",
              "      <td>Achinlochy</td>\n",
              "      <td>Clearance Settlement</td>\n",
              "      <td>271600</td>\n",
              "      <td>958500</td>\n",
              "      <td>58.495713</td>\n",
              "      <td>-4.204664</td>\n",
              "      <td>HIGHLAND</td>\n",
              "      <td>SUTHERLAND</td>\n",
              "      <td>FARR</td>\n",
              "      <td>NC 716 585</td>\n",
              "    </tr>\n",
              "    <tr>\n",
              "      <th>3</th>\n",
              "      <td>6241</td>\n",
              "      <td>NC75NW 38</td>\n",
              "      <td>Rhinovie</td>\n",
              "      <td>Clearance Settlement</td>\n",
              "      <td>271500</td>\n",
              "      <td>957600</td>\n",
              "      <td>58.487606</td>\n",
              "      <td>-4.205872</td>\n",
              "      <td>HIGHLAND</td>\n",
              "      <td>SUTHERLAND</td>\n",
              "      <td>FARR</td>\n",
              "      <td>NC 715 576</td>\n",
              "    </tr>\n",
              "    <tr>\n",
              "      <th>4</th>\n",
              "      <td>6244</td>\n",
              "      <td>NC75NW 40</td>\n",
              "      <td>Skelpick Lodge</td>\n",
              "      <td>Clearance Settlement</td>\n",
              "      <td>271700</td>\n",
              "      <td>955700</td>\n",
              "      <td>58.470614</td>\n",
              "      <td>-4.201377</td>\n",
              "      <td>HIGHLAND</td>\n",
              "      <td>SUTHERLAND</td>\n",
              "      <td>FARR</td>\n",
              "      <td>NC 717 557</td>\n",
              "    </tr>\n",
              "  </tbody>\n",
              "</table>\n",
              "</div>"
            ],
            "text/plain": [
              "   CANMORE ID SITE NUMBER          SITE NAME  ...      COUNTY  PARISH         NGR\n",
              "0        7399    NC96SW 3        Deasphollag  ...  SUTHERLAND    FARR  NC 904 602\n",
              "1        6238   NC75NW 35  Achcoillenaborgie  ...  SUTHERLAND    FARR  NC 715 593\n",
              "2        6239   NC75NW 36         Achinlochy  ...  SUTHERLAND    FARR  NC 716 585\n",
              "3        6241   NC75NW 38           Rhinovie  ...  SUTHERLAND    FARR  NC 715 576\n",
              "4        6244   NC75NW 40     Skelpick Lodge  ...  SUTHERLAND    FARR  NC 717 557\n",
              "\n",
              "[5 rows x 12 columns]"
            ]
          },
          "metadata": {
            "tags": []
          },
          "execution_count": 4
        }
      ]
    },
    {
      "cell_type": "markdown",
      "metadata": {
        "id": "iCFSMMcU8MzE",
        "colab_type": "text"
      },
      "source": [
        "As you should be able to see we have the spatial information in two forms, site names and site types.    Next we want to visualise this on a fairly basic level, just to check that I have done the conversions correctly (ie are all these points still in Sutherland or have I managed to transfer some of them to the North Sea?)\n"
      ]
    },
    {
      "cell_type": "code",
      "metadata": {
        "id": "Re_afRXP8vag",
        "colab_type": "code",
        "outputId": "431aa0c4-08e1-407e-a5c4-4bb7a21f623c",
        "colab": {
          "base_uri": "https://localhost:8080/",
          "height": 1000
        }
      },
      "source": [
        "location = clearance_sites['LATITUDE'].mean(), clearance_sites['LONGITUDE'].mean()\n",
        "\n",
        "m = folium.Map(location=location,zoom_start=10)\n",
        "\n",
        "for i in range(0,len(clearance_sites)):\n",
        "    folium.Marker([clearance_sites['LATITUDE'].iloc[i],clearance_sites['LONGITUDE'].iloc[i]]).add_to(m)\n",
        "        \n",
        "#To display the map simply ask for the object (called 'm') representation\n",
        "m"
      ],
      "execution_count": 0,
      "outputs": [
        {
          "output_type": "execute_result",
          "data": {
            "text/html": [
              "<div style=\"width:100%;\"><div style=\"position:relative;width:100%;height:0;padding-bottom:60%;\"><iframe src=\"data:text/html;charset=utf-8;base64,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\" style=\"position:absolute;width:100%;height:100%;left:0;top:0;border:none !important;\" allowfullscreen webkitallowfullscreen mozallowfullscreen></iframe></div></div>"
            ],
            "text/plain": [
              "<folium.folium.Map at 0x7f681b14e5c0>"
            ]
          },
          "metadata": {
            "tags": []
          },
          "execution_count": 13
        }
      ]
    },
    {
      "cell_type": "markdown",
      "metadata": {
        "id": "zgy8zMQk-XwW",
        "colab_type": "text"
      },
      "source": [
        "Great news!  Everything is still on dry land, and in such as way as we can easily identify a couple of patterns.\n",
        "\n",
        "For example, all of these points are geographically inland settlements.  We can also see that a number of them exist in small clusters.\n",
        "\n",
        "\n",
        "##What To Do With All This Data?\n",
        "\n",
        "Now we have our data input and checked out for issues what should we do with it?\n",
        "Well let's ask an archaeological question.\n",
        "\n",
        "What space should have been occupied by larger settlements had these small clusters been allowed to grow naturally?\n",
        "\n",
        "So, how do we do this?\n",
        "\n",
        "There are a number of ways, all of which use very scary and complicated looking mathematical formulae.  Most of these would involve us having to convert our co-ordinates again, into either radians or cartesian versions.... \n",
        "\n",
        "For instance to calculate all of our co-ordinates into cartesian we would  need to run the below calculation for each set:\n",
        "\n",
        "\n",
        "x = R * cos(lat) * cos(lon)\n",
        "\n",
        "y = R * cos(lat) * sin(lon)\n",
        "\n",
        "z = R *sin(lat)\n",
        "\n",
        "However, we would then need to convert our co-ordinates back again once our various centre points had been found.\n",
        "\n",
        "\n",
        "The good news for us is someone has kindly put together a tool to do all this for us already and it can be found here:\n",
        "\n",
        "http://www.geomidpoint.com/#using\n",
        "\n",
        "\n",
        "**Note**: If you are interested in how this works, the links below give explanations of how this all works:\n",
        "\n",
        "https://stackoverflow.com/questions/10140029/convert-latitude-longitude-in-degree-radians\n",
        "\n",
        "https://stackoverflow.com/questions/1185408/converting-from-longitude-latitude-to-cartesian-coordinates\n",
        "\n"
      ]
    },
    {
      "cell_type": "code",
      "metadata": {
        "id": "-5zeD_SxBrE-",
        "colab_type": "code",
        "outputId": "6e8b0c7c-9597-4206-a11a-aada8d0f1213",
        "colab": {
          "base_uri": "https://localhost:8080/",
          "height": 204
        }
      },
      "source": [
        "projected_centres = pd.read_csv(\"https://raw.githubusercontent.com/Andylebrocq/arch-proj-1/master/Projected.csv\")\n",
        "projected_centres.head()"
      ],
      "execution_count": 25,
      "outputs": [
        {
          "output_type": "execute_result",
          "data": {
            "text/html": [
              "<div>\n",
              "<style scoped>\n",
              "    .dataframe tbody tr th:only-of-type {\n",
              "        vertical-align: middle;\n",
              "    }\n",
              "\n",
              "    .dataframe tbody tr th {\n",
              "        vertical-align: top;\n",
              "    }\n",
              "\n",
              "    .dataframe thead th {\n",
              "        text-align: right;\n",
              "    }\n",
              "</style>\n",
              "<table border=\"1\" class=\"dataframe\">\n",
              "  <thead>\n",
              "    <tr style=\"text-align: right;\">\n",
              "      <th></th>\n",
              "      <th>CANMORE ID</th>\n",
              "      <th>SITE NUMBER</th>\n",
              "      <th>SITE NAME</th>\n",
              "      <th>SITE TYPE</th>\n",
              "      <th>SITE EASTING</th>\n",
              "      <th>SITE NORTHING</th>\n",
              "      <th>LATITUDE</th>\n",
              "      <th>LONGITUDE</th>\n",
              "      <th>COUNCIL</th>\n",
              "      <th>COUNTY</th>\n",
              "      <th>PARISH</th>\n",
              "      <th>NGR</th>\n",
              "    </tr>\n",
              "  </thead>\n",
              "  <tbody>\n",
              "    <tr>\n",
              "      <th>0</th>\n",
              "      <td>NaN</td>\n",
              "      <td>NaN</td>\n",
              "      <td>Centre 1</td>\n",
              "      <td>Projected</td>\n",
              "      <td>NaN</td>\n",
              "      <td>NaN</td>\n",
              "      <td>58.499288</td>\n",
              "      <td>-4.205740</td>\n",
              "      <td>NaN</td>\n",
              "      <td>NaN</td>\n",
              "      <td>NaN</td>\n",
              "      <td>NaN</td>\n",
              "    </tr>\n",
              "    <tr>\n",
              "      <th>1</th>\n",
              "      <td>NaN</td>\n",
              "      <td>NaN</td>\n",
              "      <td>Centre 2</td>\n",
              "      <td>Projected</td>\n",
              "      <td>NaN</td>\n",
              "      <td>NaN</td>\n",
              "      <td>58.468849</td>\n",
              "      <td>-4.199552</td>\n",
              "      <td>NaN</td>\n",
              "      <td>NaN</td>\n",
              "      <td>NaN</td>\n",
              "      <td>NaN</td>\n",
              "    </tr>\n",
              "    <tr>\n",
              "      <th>2</th>\n",
              "      <td>NaN</td>\n",
              "      <td>NaN</td>\n",
              "      <td>Centre 3</td>\n",
              "      <td>Projected</td>\n",
              "      <td>NaN</td>\n",
              "      <td>NaN</td>\n",
              "      <td>58.439418</td>\n",
              "      <td>-4.196863</td>\n",
              "      <td>NaN</td>\n",
              "      <td>NaN</td>\n",
              "      <td>NaN</td>\n",
              "      <td>NaN</td>\n",
              "    </tr>\n",
              "    <tr>\n",
              "      <th>3</th>\n",
              "      <td>NaN</td>\n",
              "      <td>NaN</td>\n",
              "      <td>Centre 4</td>\n",
              "      <td>Projected</td>\n",
              "      <td>NaN</td>\n",
              "      <td>NaN</td>\n",
              "      <td>58.429375</td>\n",
              "      <td>-4.467730</td>\n",
              "      <td>NaN</td>\n",
              "      <td>NaN</td>\n",
              "      <td>NaN</td>\n",
              "      <td>NaN</td>\n",
              "    </tr>\n",
              "    <tr>\n",
              "      <th>4</th>\n",
              "      <td>NaN</td>\n",
              "      <td>NaN</td>\n",
              "      <td>Centre 5</td>\n",
              "      <td>Projected</td>\n",
              "      <td>NaN</td>\n",
              "      <td>NaN</td>\n",
              "      <td>58.314458</td>\n",
              "      <td>-4.318856</td>\n",
              "      <td>NaN</td>\n",
              "      <td>NaN</td>\n",
              "      <td>NaN</td>\n",
              "      <td>NaN</td>\n",
              "    </tr>\n",
              "  </tbody>\n",
              "</table>\n",
              "</div>"
            ],
            "text/plain": [
              "   CANMORE ID  SITE NUMBER SITE NAME  SITE TYPE  ...  COUNCIL  COUNTY  PARISH  NGR\n",
              "0         NaN          NaN  Centre 1  Projected  ...      NaN     NaN     NaN  NaN\n",
              "1         NaN          NaN  Centre 2  Projected  ...      NaN     NaN     NaN  NaN\n",
              "2         NaN          NaN  Centre 3  Projected  ...      NaN     NaN     NaN  NaN\n",
              "3         NaN          NaN  Centre 4  Projected  ...      NaN     NaN     NaN  NaN\n",
              "4         NaN          NaN  Centre 5  Projected  ...      NaN     NaN     NaN  NaN\n",
              "\n",
              "[5 rows x 12 columns]"
            ]
          },
          "metadata": {
            "tags": []
          },
          "execution_count": 25
        }
      ]
    },
    {
      "cell_type": "markdown",
      "metadata": {
        "id": "hmLci2oPCQ7K",
        "colab_type": "text"
      },
      "source": [
        "As you can see, I have now read in the data for 7 sites that may have become centres for nucleated settlements based on our original data.\n",
        "\n",
        "I have had to exclude a number of the settlements as they were A) too far away from other sites to really be able to be included in their group, or  B) were on the other of a loch!  (there's a frustrating number of lochs in Sutherland).\n",
        "\n",
        "\n",
        "lets see where these points sit in a basic map."
      ]
    },
    {
      "cell_type": "code",
      "metadata": {
        "id": "8xk4isbWCzLT",
        "colab_type": "code",
        "outputId": "8055d087-13fa-45d3-9e83-7609e9067885",
        "colab": {
          "base_uri": "https://localhost:8080/",
          "height": 1000
        }
      },
      "source": [
        "location = projected_centres['LATITUDE'].mean(), clearance_sites['LONGITUDE'].mean()\n",
        "\n",
        "m = folium.Map(location=location,zoom_start=10)\n",
        "\n",
        "for i in range(0,len(projected_centres)):\n",
        "    folium.Marker([projected_centres['LATITUDE'].iloc[i],projected_centres['LONGITUDE'].iloc[i]]).add_to(m)\n",
        "        \n",
        "m"
      ],
      "execution_count": 0,
      "outputs": [
        {
          "output_type": "execute_result",
          "data": {
            "text/html": [
              "<div style=\"width:100%;\"><div style=\"position:relative;width:100%;height:0;padding-bottom:60%;\"><iframe src=\"data:text/html;charset=utf-8;base64,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\" style=\"position:absolute;width:100%;height:100%;left:0;top:0;border:none !important;\" allowfullscreen webkitallowfullscreen mozallowfullscreen></iframe></div></div>"
            ],
            "text/plain": [
              "<folium.folium.Map at 0x7f6842427a90>"
            ]
          },
          "metadata": {
            "tags": []
          },
          "execution_count": 7
        }
      ]
    },
    {
      "cell_type": "markdown",
      "metadata": {
        "id": "lSrp_CrQDp8h",
        "colab_type": "text"
      },
      "source": [
        "The final data we need to be able to run our spatial comparisons between projected settlement centres and actual settlement centres are the towns actually built in the period for those cleared from their settlements."
      ]
    },
    {
      "cell_type": "code",
      "metadata": {
        "id": "ZoXwki1EIjEr",
        "colab_type": "code",
        "outputId": "5d04194c-b373-4873-a594-c90d1f15e0fc",
        "colab": {
          "base_uri": "https://localhost:8080/",
          "height": 204
        }
      },
      "source": [
        "new_settlements = pd.read_csv(\"https://raw.githubusercontent.com/Andylebrocq/arch-proj-1/master/New.csv\")\n",
        "new_settlements.head()"
      ],
      "execution_count": 0,
      "outputs": [
        {
          "output_type": "execute_result",
          "data": {
            "text/html": [
              "<div>\n",
              "<style scoped>\n",
              "    .dataframe tbody tr th:only-of-type {\n",
              "        vertical-align: middle;\n",
              "    }\n",
              "\n",
              "    .dataframe tbody tr th {\n",
              "        vertical-align: top;\n",
              "    }\n",
              "\n",
              "    .dataframe thead th {\n",
              "        text-align: right;\n",
              "    }\n",
              "</style>\n",
              "<table border=\"1\" class=\"dataframe\">\n",
              "  <thead>\n",
              "    <tr style=\"text-align: right;\">\n",
              "      <th></th>\n",
              "      <th>CANMORE ID</th>\n",
              "      <th>SITE NUMBER</th>\n",
              "      <th>SITE NAME</th>\n",
              "      <th>SITE TYPE</th>\n",
              "      <th>SITE EASTING</th>\n",
              "      <th>SITE NORTHING</th>\n",
              "      <th>LATITUDE</th>\n",
              "      <th>LONGITUDE</th>\n",
              "      <th>COUNCIL</th>\n",
              "      <th>COUNTY</th>\n",
              "      <th>PARISH</th>\n",
              "      <th>NGR</th>\n",
              "    </tr>\n",
              "  </thead>\n",
              "  <tbody>\n",
              "    <tr>\n",
              "      <th>0</th>\n",
              "      <td>NaN</td>\n",
              "      <td>NaN</td>\n",
              "      <td>BettyHill</td>\n",
              "      <td>New Settlement</td>\n",
              "      <td>NaN</td>\n",
              "      <td>NaN</td>\n",
              "      <td>58.525916</td>\n",
              "      <td>-4.222300</td>\n",
              "      <td>NaN</td>\n",
              "      <td>NaN</td>\n",
              "      <td>NaN</td>\n",
              "      <td>NaN</td>\n",
              "    </tr>\n",
              "    <tr>\n",
              "      <th>1</th>\n",
              "      <td>NaN</td>\n",
              "      <td>NaN</td>\n",
              "      <td>Helmsdale</td>\n",
              "      <td>New Settlement</td>\n",
              "      <td>NaN</td>\n",
              "      <td>NaN</td>\n",
              "      <td>58.130083</td>\n",
              "      <td>-3.651426</td>\n",
              "      <td>NaN</td>\n",
              "      <td>NaN</td>\n",
              "      <td>NaN</td>\n",
              "      <td>NaN</td>\n",
              "    </tr>\n",
              "    <tr>\n",
              "      <th>2</th>\n",
              "      <td>NaN</td>\n",
              "      <td>NaN</td>\n",
              "      <td>Spinningdale</td>\n",
              "      <td>New Settlement</td>\n",
              "      <td>NaN</td>\n",
              "      <td>NaN</td>\n",
              "      <td>57.878219</td>\n",
              "      <td>-4.234089</td>\n",
              "      <td>NaN</td>\n",
              "      <td>NaN</td>\n",
              "      <td>NaN</td>\n",
              "      <td>NaN</td>\n",
              "    </tr>\n",
              "    <tr>\n",
              "      <th>3</th>\n",
              "      <td>NaN</td>\n",
              "      <td>NaN</td>\n",
              "      <td>Armadale</td>\n",
              "      <td>New Settlement</td>\n",
              "      <td>NaN</td>\n",
              "      <td>NaN</td>\n",
              "      <td>58.552442</td>\n",
              "      <td>-4.088054</td>\n",
              "      <td>NaN</td>\n",
              "      <td>NaN</td>\n",
              "      <td>NaN</td>\n",
              "      <td>NaN</td>\n",
              "    </tr>\n",
              "    <tr>\n",
              "      <th>4</th>\n",
              "      <td>NaN</td>\n",
              "      <td>NaN</td>\n",
              "      <td>Rosehall</td>\n",
              "      <td>New Settlement</td>\n",
              "      <td>NaN</td>\n",
              "      <td>NaN</td>\n",
              "      <td>57.978526</td>\n",
              "      <td>-4.591804</td>\n",
              "      <td>NaN</td>\n",
              "      <td>NaN</td>\n",
              "      <td>NaN</td>\n",
              "      <td>NaN</td>\n",
              "    </tr>\n",
              "  </tbody>\n",
              "</table>\n",
              "</div>"
            ],
            "text/plain": [
              "   CANMORE ID  SITE NUMBER     SITE NAME  ... COUNTY  PARISH  NGR\n",
              "0         NaN          NaN     BettyHill  ...    NaN     NaN  NaN\n",
              "1         NaN          NaN     Helmsdale  ...    NaN     NaN  NaN\n",
              "2         NaN          NaN  Spinningdale  ...    NaN     NaN  NaN\n",
              "3         NaN          NaN      Armadale  ...    NaN     NaN  NaN\n",
              "4         NaN          NaN      Rosehall  ...    NaN     NaN  NaN\n",
              "\n",
              "[5 rows x 12 columns]"
            ]
          },
          "metadata": {
            "tags": []
          },
          "execution_count": 8
        }
      ]
    },
    {
      "cell_type": "markdown",
      "metadata": {
        "id": "0Lzoz8CUIyke",
        "colab_type": "text"
      },
      "source": [
        "This data had to be drawn together from historical information and then manually locating the sites and co-ordinates.\n",
        "\n",
        "Lets have a look at where the people cleared from our first set of sites were moved to over the century"
      ]
    },
    {
      "cell_type": "code",
      "metadata": {
        "id": "eBQ4nIbXJHjk",
        "colab_type": "code",
        "outputId": "bafecf94-0a16-4323-ace2-1e05ae010def",
        "colab": {
          "base_uri": "https://localhost:8080/",
          "height": 1000
        }
      },
      "source": [
        "location = new_settlements['LATITUDE'].mean(), new_settlements['LONGITUDE'].mean()\n",
        "\n",
        "m = folium.Map(location=location,zoom_start=9)\n",
        "\n",
        "for i in range(0,len(new_settlements)):\n",
        "    folium.Marker([new_settlements['LATITUDE'].iloc[i],new_settlements['LONGITUDE'].iloc[i]]).add_to(m)\n",
        "        \n",
        "m"
      ],
      "execution_count": 26,
      "outputs": [
        {
          "output_type": "execute_result",
          "data": {
            "text/html": [
              "<div style=\"width:100%;\"><div style=\"position:relative;width:100%;height:0;padding-bottom:60%;\"><iframe src=\"data:text/html;charset=utf-8;base64,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\" style=\"position:absolute;width:100%;height:100%;left:0;top:0;border:none !important;\" allowfullscreen webkitallowfullscreen mozallowfullscreen></iframe></div></div>"
            ],
            "text/plain": [
              "<folium.folium.Map at 0x7f680d486898>"
            ]
          },
          "metadata": {
            "tags": []
          },
          "execution_count": 26
        }
      ]
    },
    {
      "cell_type": "markdown",
      "metadata": {
        "id": "MrDSsJ9pJiJX",
        "colab_type": "text"
      },
      "source": [
        "Visually we can start to see a couple of patterns from our three sets of data, the pre-clearance settlements were close togather, generally inland and central to the region.  The projected settlements reflected this, but the actual newly built settlements seem much more spread apart and on the periphery, coastal and boundaries.\n",
        "\n",
        "\n",
        "Let's try and make this a wee bit easier to view.\n",
        "\n",
        "\n",
        "##Bringing Our Data Together\n",
        "\n",
        "First things first, we have 3 sets of data, and 3 maps.  This takes a lot of scrolling to see what is what.  Lets join up all our data.  \n",
        "\n",
        "Now, as I like to keep things easy and I had to create 2 of the tables, I have been able to keep the same headings and formats in each.  We could take the easy route and just copy and paste it all together, but our notebook can do this for us.\n",
        "\n",
        "We need to use a process called concantination"
      ]
    },
    {
      "cell_type": "code",
      "metadata": {
        "id": "djLIaQ5DNQ1r",
        "colab_type": "code",
        "outputId": "7cf2d0ed-3304-4e96-e5a5-10f2ea998cf2",
        "colab": {
          "base_uri": "https://localhost:8080/",
          "height": 204
        }
      },
      "source": [
        "#combine the two datasets together to make a big dataset we call 'all_data'\n",
        "all_data = pd.concat([clearance_sites,projected_centres,new_settlements], sort=False, ignore_index=True)\n",
        "all_data.head()"
      ],
      "execution_count": 27,
      "outputs": [
        {
          "output_type": "execute_result",
          "data": {
            "text/html": [
              "<div>\n",
              "<style scoped>\n",
              "    .dataframe tbody tr th:only-of-type {\n",
              "        vertical-align: middle;\n",
              "    }\n",
              "\n",
              "    .dataframe tbody tr th {\n",
              "        vertical-align: top;\n",
              "    }\n",
              "\n",
              "    .dataframe thead th {\n",
              "        text-align: right;\n",
              "    }\n",
              "</style>\n",
              "<table border=\"1\" class=\"dataframe\">\n",
              "  <thead>\n",
              "    <tr style=\"text-align: right;\">\n",
              "      <th></th>\n",
              "      <th>CANMORE ID</th>\n",
              "      <th>SITE NUMBER</th>\n",
              "      <th>SITE NAME</th>\n",
              "      <th>SITE TYPE</th>\n",
              "      <th>SITE EASTING</th>\n",
              "      <th>SITE NORTHING</th>\n",
              "      <th>LATITUDE</th>\n",
              "      <th>LONGITUDE</th>\n",
              "      <th>COUNCIL</th>\n",
              "      <th>COUNTY</th>\n",
              "      <th>PARISH</th>\n",
              "      <th>NGR</th>\n",
              "    </tr>\n",
              "  </thead>\n",
              "  <tbody>\n",
              "    <tr>\n",
              "      <th>0</th>\n",
              "      <td>7399.0</td>\n",
              "      <td>NC96SW 3</td>\n",
              "      <td>Deasphollag</td>\n",
              "      <td>Clearance Settlement</td>\n",
              "      <td>290400.0</td>\n",
              "      <td>960200.0</td>\n",
              "      <td>58.516106</td>\n",
              "      <td>-3.883148</td>\n",
              "      <td>HIGHLAND</td>\n",
              "      <td>SUTHERLAND</td>\n",
              "      <td>FARR</td>\n",
              "      <td>NC 904 602</td>\n",
              "    </tr>\n",
              "    <tr>\n",
              "      <th>1</th>\n",
              "      <td>6238.0</td>\n",
              "      <td>NC75NW 35</td>\n",
              "      <td>Achcoillenaborgie</td>\n",
              "      <td>Clearance Settlement</td>\n",
              "      <td>271500.0</td>\n",
              "      <td>959300.0</td>\n",
              "      <td>58.502863</td>\n",
              "      <td>-4.206829</td>\n",
              "      <td>HIGHLAND</td>\n",
              "      <td>SUTHERLAND</td>\n",
              "      <td>FARR</td>\n",
              "      <td>NC 715 593</td>\n",
              "    </tr>\n",
              "    <tr>\n",
              "      <th>2</th>\n",
              "      <td>6239.0</td>\n",
              "      <td>NC75NW 36</td>\n",
              "      <td>Achinlochy</td>\n",
              "      <td>Clearance Settlement</td>\n",
              "      <td>271600.0</td>\n",
              "      <td>958500.0</td>\n",
              "      <td>58.495713</td>\n",
              "      <td>-4.204664</td>\n",
              "      <td>HIGHLAND</td>\n",
              "      <td>SUTHERLAND</td>\n",
              "      <td>FARR</td>\n",
              "      <td>NC 716 585</td>\n",
              "    </tr>\n",
              "    <tr>\n",
              "      <th>3</th>\n",
              "      <td>6241.0</td>\n",
              "      <td>NC75NW 38</td>\n",
              "      <td>Rhinovie</td>\n",
              "      <td>Clearance Settlement</td>\n",
              "      <td>271500.0</td>\n",
              "      <td>957600.0</td>\n",
              "      <td>58.487606</td>\n",
              "      <td>-4.205872</td>\n",
              "      <td>HIGHLAND</td>\n",
              "      <td>SUTHERLAND</td>\n",
              "      <td>FARR</td>\n",
              "      <td>NC 715 576</td>\n",
              "    </tr>\n",
              "    <tr>\n",
              "      <th>4</th>\n",
              "      <td>6244.0</td>\n",
              "      <td>NC75NW 40</td>\n",
              "      <td>Skelpick Lodge</td>\n",
              "      <td>Clearance Settlement</td>\n",
              "      <td>271700.0</td>\n",
              "      <td>955700.0</td>\n",
              "      <td>58.470614</td>\n",
              "      <td>-4.201377</td>\n",
              "      <td>HIGHLAND</td>\n",
              "      <td>SUTHERLAND</td>\n",
              "      <td>FARR</td>\n",
              "      <td>NC 717 557</td>\n",
              "    </tr>\n",
              "  </tbody>\n",
              "</table>\n",
              "</div>"
            ],
            "text/plain": [
              "   CANMORE ID SITE NUMBER          SITE NAME  ...      COUNTY  PARISH         NGR\n",
              "0      7399.0    NC96SW 3        Deasphollag  ...  SUTHERLAND    FARR  NC 904 602\n",
              "1      6238.0   NC75NW 35  Achcoillenaborgie  ...  SUTHERLAND    FARR  NC 715 593\n",
              "2      6239.0   NC75NW 36         Achinlochy  ...  SUTHERLAND    FARR  NC 716 585\n",
              "3      6241.0   NC75NW 38           Rhinovie  ...  SUTHERLAND    FARR  NC 715 576\n",
              "4      6244.0   NC75NW 40     Skelpick Lodge  ...  SUTHERLAND    FARR  NC 717 557\n",
              "\n",
              "[5 rows x 12 columns]"
            ]
          },
          "metadata": {
            "tags": []
          },
          "execution_count": 27
        }
      ]
    },
    {
      "cell_type": "markdown",
      "metadata": {
        "id": "hh2JwPMsOmDj",
        "colab_type": "text"
      },
      "source": [
        "Success!!   Now we can try making a maps that help display what our three previous maps did, but in clearer visuals.\n",
        "\n",
        "Lets install a couple of other map aking tools"
      ]
    },
    {
      "cell_type": "code",
      "metadata": {
        "id": "0D4iAdJzQP2I",
        "colab_type": "code",
        "colab": {}
      },
      "source": [
        "%matplotlib inline\n",
        "import seaborn as sns\n",
        "import matplotlib.pyplot as plt\n",
        "from folium.plugins import MeasureControl"
      ],
      "execution_count": 0,
      "outputs": []
    },
    {
      "cell_type": "markdown",
      "metadata": {
        "id": "JZ_Av3_RS1Va",
        "colab_type": "text"
      },
      "source": [
        "Lets create a base map, based on the central point of all our co-rdinates (Again easiest just to use the online tool)"
      ]
    },
    {
      "cell_type": "code",
      "metadata": {
        "id": "c2MaYfNIRzbP",
        "colab_type": "code",
        "colab": {}
      },
      "source": [
        "def generateBaseMap(default_location=[58.213398,-4.158034 ], default_zoom_start=9):\n",
        "    base_map = folium.Map(location=default_location, control_scale=True, zoom_start=default_zoom_start)\n",
        "    return base_map"
      ],
      "execution_count": 0,
      "outputs": []
    },
    {
      "cell_type": "code",
      "metadata": {
        "id": "gLJkMKaZRxwP",
        "colab_type": "code",
        "outputId": "a16b789d-7d8d-4276-d4f9-910e80d7e615",
        "colab": {
          "base_uri": "https://localhost:8080/",
          "height": 1000
        }
      },
      "source": [
        "base_map = generateBaseMap()\n",
        "base_map"
      ],
      "execution_count": 30,
      "outputs": [
        {
          "output_type": "execute_result",
          "data": {
            "text/html": [
              "<div style=\"width:100%;\"><div style=\"position:relative;width:100%;height:0;padding-bottom:60%;\"><iframe src=\"data:text/html;charset=utf-8;base64,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\" style=\"position:absolute;width:100%;height:100%;left:0;top:0;border:none !important;\" allowfullscreen webkitallowfullscreen mozallowfullscreen></iframe></div></div>"
            ],
            "text/plain": [
              "<folium.folium.Map at 0x7f680d486828>"
            ]
          },
          "metadata": {
            "tags": []
          },
          "execution_count": 30
        }
      ]
    },
    {
      "cell_type": "markdown",
      "metadata": {
        "id": "Is6Ybi11dVLn",
        "colab_type": "text"
      },
      "source": [
        "Great thats working too.  Lets try mapping all of our points, initial pre-clearance settlements, projected centres and new settlements on the one map.\n",
        "\n",
        "We need to create 3 categories of site type in this case."
      ]
    },
    {
      "cell_type": "code",
      "metadata": {
        "id": "PQWtWEvVjwNw",
        "colab_type": "code",
        "colab": {
          "base_uri": "https://localhost:8080/",
          "height": 85
        },
        "outputId": "a8569b6b-ec79-4d8a-fcda-3feb791ae40d"
      },
      "source": [
        "all_data['SITE TYPE'].value_counts()"
      ],
      "execution_count": 61,
      "outputs": [
        {
          "output_type": "execute_result",
          "data": {
            "text/plain": [
              "Clearance Settlement    32\n",
              "Projected                7\n",
              "New Settlement           5\n",
              "Name: SITE TYPE, dtype: int64"
            ]
          },
          "metadata": {
            "tags": []
          },
          "execution_count": 61
        }
      ]
    },
    {
      "cell_type": "markdown",
      "metadata": {
        "id": "dnw6xshoj8WI",
        "colab_type": "text"
      },
      "source": [
        "What I have done here is to run a quick count on each of the tepe of site, now to map them"
      ]
    },
    {
      "cell_type": "code",
      "metadata": {
        "id": "H5fx4QY2uL6l",
        "colab_type": "code",
        "colab": {
          "base_uri": "https://localhost:8080/",
          "height": 1000
        },
        "outputId": "102b7d7d-2f5b-478a-a4b2-5d9cdd56b76a"
      },
      "source": [
        "#codecell_makeabasicmap_ManipulatingyourData_UsingSymbology\n",
        "\n",
        "#now make a map just like you did before. Note that this time we're adding a scale bar with 'control_scale'\n",
        "location = all_data['LATITUDE'].mean(), all_data['LONGITUDE'].mean()\n",
        "m = folium.Map(location=location,zoom_start=10,control_scale = True)\n",
        "\n",
        "#Assign different colours to the two large site categories - B and C in this case\n",
        "for i in range(0,len(all_data)):\n",
        "\n",
        "\n",
        "    site_type = all_data['SITE TYPE'].iloc[i]\n",
        "    if site_type == 'New Settlement':\n",
        "        color = 'blue'\n",
        "    elif site_type == 'Projected':\n",
        "        color = 'green'\n",
        "    else:\n",
        "        color = 'red'\n",
        "    \n",
        "# add the markers to the map, using the locations and colours    \n",
        "    folium.Marker([all_data['LATITUDE'].iloc[i],all_data['LONGITUDE'].iloc[i]],icon=folium.Icon(color=color)).add_to(m)\n",
        "\n",
        "#type 'm' for map (the variable you set above) to tell the notebook to display your map\n",
        "m"
      ],
      "execution_count": 71,
      "outputs": [
        {
          "output_type": "execute_result",
          "data": {
            "text/html": [
              "<div style=\"width:100%;\"><div style=\"position:relative;width:100%;height:0;padding-bottom:60%;\"><iframe src=\"data:text/html;charset=utf-8;base64,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\" style=\"position:absolute;width:100%;height:100%;left:0;top:0;border:none !important;\" allowfullscreen webkitallowfullscreen mozallowfullscreen></iframe></div></div>"
            ],
            "text/plain": [
              "<folium.folium.Map at 0x7f680cdbee80>"
            ]
          },
          "metadata": {
            "tags": []
          },
          "execution_count": 71
        }
      ]
    },
    {
      "cell_type": "markdown",
      "metadata": {
        "id": "5NSzmHu9qQli",
        "colab_type": "text"
      },
      "source": [
        "We can now see all of our points.  Red for pre-clearance settlements, blue for the projected centre points, and finally green for the actual new settlement sites.  \n",
        "\n",
        "This isn't super clear, so what are we trying to achieve?  We want to see where the differences in the projected spaces and the new settlements, so lets see if we can improve on those.\n",
        "\n",
        "Let's set up two maps side by side so we can see our conclusions clearly"
      ]
    },
    {
      "cell_type": "code",
      "metadata": {
        "id": "Bw6wzquavBtb",
        "colab_type": "code",
        "colab": {
          "base_uri": "https://localhost:8080/",
          "height": 204
        },
        "outputId": "0e1fabff-58b6-4b81-b4ac-99114e5074c9"
      },
      "source": [
        "new_projected = pd.concat([projected_centres,new_settlements], sort=False, ignore_index=True)\n",
        "new_projected.head()"
      ],
      "execution_count": 76,
      "outputs": [
        {
          "output_type": "execute_result",
          "data": {
            "text/html": [
              "<div>\n",
              "<style scoped>\n",
              "    .dataframe tbody tr th:only-of-type {\n",
              "        vertical-align: middle;\n",
              "    }\n",
              "\n",
              "    .dataframe tbody tr th {\n",
              "        vertical-align: top;\n",
              "    }\n",
              "\n",
              "    .dataframe thead th {\n",
              "        text-align: right;\n",
              "    }\n",
              "</style>\n",
              "<table border=\"1\" class=\"dataframe\">\n",
              "  <thead>\n",
              "    <tr style=\"text-align: right;\">\n",
              "      <th></th>\n",
              "      <th>CANMORE ID</th>\n",
              "      <th>SITE NUMBER</th>\n",
              "      <th>SITE NAME</th>\n",
              "      <th>SITE TYPE</th>\n",
              "      <th>SITE EASTING</th>\n",
              "      <th>SITE NORTHING</th>\n",
              "      <th>LATITUDE</th>\n",
              "      <th>LONGITUDE</th>\n",
              "      <th>COUNCIL</th>\n",
              "      <th>COUNTY</th>\n",
              "      <th>PARISH</th>\n",
              "      <th>NGR</th>\n",
              "    </tr>\n",
              "  </thead>\n",
              "  <tbody>\n",
              "    <tr>\n",
              "      <th>0</th>\n",
              "      <td>NaN</td>\n",
              "      <td>NaN</td>\n",
              "      <td>Centre 1</td>\n",
              "      <td>Projected</td>\n",
              "      <td>NaN</td>\n",
              "      <td>NaN</td>\n",
              "      <td>58.499288</td>\n",
              "      <td>-4.205740</td>\n",
              "      <td>NaN</td>\n",
              "      <td>NaN</td>\n",
              "      <td>NaN</td>\n",
              "      <td>NaN</td>\n",
              "    </tr>\n",
              "    <tr>\n",
              "      <th>1</th>\n",
              "      <td>NaN</td>\n",
              "      <td>NaN</td>\n",
              "      <td>Centre 2</td>\n",
              "      <td>Projected</td>\n",
              "      <td>NaN</td>\n",
              "      <td>NaN</td>\n",
              "      <td>58.468849</td>\n",
              "      <td>-4.199552</td>\n",
              "      <td>NaN</td>\n",
              "      <td>NaN</td>\n",
              "      <td>NaN</td>\n",
              "      <td>NaN</td>\n",
              "    </tr>\n",
              "    <tr>\n",
              "      <th>2</th>\n",
              "      <td>NaN</td>\n",
              "      <td>NaN</td>\n",
              "      <td>Centre 3</td>\n",
              "      <td>Projected</td>\n",
              "      <td>NaN</td>\n",
              "      <td>NaN</td>\n",
              "      <td>58.439418</td>\n",
              "      <td>-4.196863</td>\n",
              "      <td>NaN</td>\n",
              "      <td>NaN</td>\n",
              "      <td>NaN</td>\n",
              "      <td>NaN</td>\n",
              "    </tr>\n",
              "    <tr>\n",
              "      <th>3</th>\n",
              "      <td>NaN</td>\n",
              "      <td>NaN</td>\n",
              "      <td>Centre 4</td>\n",
              "      <td>Projected</td>\n",
              "      <td>NaN</td>\n",
              "      <td>NaN</td>\n",
              "      <td>58.429375</td>\n",
              "      <td>-4.467730</td>\n",
              "      <td>NaN</td>\n",
              "      <td>NaN</td>\n",
              "      <td>NaN</td>\n",
              "      <td>NaN</td>\n",
              "    </tr>\n",
              "    <tr>\n",
              "      <th>4</th>\n",
              "      <td>NaN</td>\n",
              "      <td>NaN</td>\n",
              "      <td>Centre 5</td>\n",
              "      <td>Projected</td>\n",
              "      <td>NaN</td>\n",
              "      <td>NaN</td>\n",
              "      <td>58.314458</td>\n",
              "      <td>-4.318856</td>\n",
              "      <td>NaN</td>\n",
              "      <td>NaN</td>\n",
              "      <td>NaN</td>\n",
              "      <td>NaN</td>\n",
              "    </tr>\n",
              "  </tbody>\n",
              "</table>\n",
              "</div>"
            ],
            "text/plain": [
              "   CANMORE ID  SITE NUMBER SITE NAME  SITE TYPE  ...  COUNCIL  COUNTY  PARISH  NGR\n",
              "0         NaN          NaN  Centre 1  Projected  ...      NaN     NaN     NaN  NaN\n",
              "1         NaN          NaN  Centre 2  Projected  ...      NaN     NaN     NaN  NaN\n",
              "2         NaN          NaN  Centre 3  Projected  ...      NaN     NaN     NaN  NaN\n",
              "3         NaN          NaN  Centre 4  Projected  ...      NaN     NaN     NaN  NaN\n",
              "4         NaN          NaN  Centre 5  Projected  ...      NaN     NaN     NaN  NaN\n",
              "\n",
              "[5 rows x 12 columns]"
            ]
          },
          "metadata": {
            "tags": []
          },
          "execution_count": 76
        }
      ]
    },
    {
      "cell_type": "code",
      "metadata": {
        "id": "17M_JVxgw2KF",
        "colab_type": "code",
        "colab": {
          "base_uri": "https://localhost:8080/",
          "height": 1000
        },
        "outputId": "7af53470-3e6c-479f-a958-111dca8e0b53"
      },
      "source": [
        "location = new_projected['LATITUDE'].mean(), new_projected['LONGITUDE'].mean()\n",
        "m = folium.Map(location=location,zoom_start=10,control_scale = True)\n",
        "\n",
        "for i in range(0,len(new_projected)):\n",
        "\n",
        "\n",
        "    site_type = new_projected['SITE TYPE'].iloc[i]\n",
        "    if site_type == 'New Settlement':\n",
        "        color = 'blue'\n",
        "    elif site_type == 'Projected':\n",
        "        color = 'green'\n",
        "    else:\n",
        "        color = 'red'\n",
        "      \n",
        "    folium.Marker([new_projected['LATITUDE'].iloc[i],new_projected['LONGITUDE'].iloc[i]],icon=folium.Icon(color=color)).add_to(m)\n",
        "\n",
        "m"
      ],
      "execution_count": 82,
      "outputs": [
        {
          "output_type": "execute_result",
          "data": {
            "text/html": [
              "<div style=\"width:100%;\"><div style=\"position:relative;width:100%;height:0;padding-bottom:60%;\"><iframe src=\"data:text/html;charset=utf-8;base64,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\" style=\"position:absolute;width:100%;height:100%;left:0;top:0;border:none !important;\" allowfullscreen webkitallowfullscreen mozallowfullscreen></iframe></div></div>"
            ],
            "text/plain": [
              "<folium.folium.Map at 0x7f680cc270b8>"
            ]
          },
          "metadata": {
            "tags": []
          },
          "execution_count": 82
        }
      ]
    }
  ]
}