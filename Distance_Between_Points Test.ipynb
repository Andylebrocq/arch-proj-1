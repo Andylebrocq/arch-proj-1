{
  "nbformat": 4,
  "nbformat_minor": 0,
  "metadata": {
    "colab": {
      "name": "Distance Between Points.ipynb",
      "provenance": [],
      "include_colab_link": true
    },
    "kernelspec": {
      "name": "python3",
      "display_name": "Python 3"
    }
  },
  "cells": [
    {
      "cell_type": "markdown",
      "metadata": {
        "id": "view-in-github",
        "colab_type": "text"
      },
      "source": [
        "<a href=\"https://colab.research.google.com/github/Andylebrocq/arch-proj-1/blob/master/Distance_Between_Points%20Test.ipynb\" target=\"_parent\"><img src=\"https://colab.research.google.com/assets/colab-badge.svg\" alt=\"Open In Colab\"/></a>"
      ]
    },
    {
      "cell_type": "markdown",
      "metadata": {
        "id": "mMDMQQhH3JPS",
        "colab_type": "text"
      },
      "source": [
        "## scipy.spatial.distance\n",
        "\n",
        "This notebook is designed to teach you how to use scipy.spatial.distance in order to locate a central space between a number of archaeological points.\n",
        "\n",
        "We are going to use some data around settlements in the Scottish Highlands during the Clearance Period to try and work out where we think larger nucleated towns and villages should have naturally formed against where new towns were actually built.\n",
        "\n",
        "We'll be using the scipy.spatial.distance modelling tools to work this out (don't worry about the terrifying looking maths, it does it all for you... honest!!!).\n",
        "\n",
        "Oh yeah, we'll get to make some cool maps too!  Enjoy."
      ]
    },
    {
      "cell_type": "markdown",
      "metadata": {
        "id": "msvanGd6EBC6",
        "colab_type": "text"
      },
      "source": [
        "First things first, we need to import the tools that we plan to use.  There are a few:\n",
        "\n",
        "**Pandas** - this is a great tool for working with and reading in our data which is in spreadsheet format.\n",
        "\n",
        "**matplotlib** - we'll need this for plotting our settlements\n",
        "\n",
        "**geopandas** - this helps our data be visualised geographically (the fun, pretty mappy bits)\n",
        "\n",
        "**scipy** - for our calculations (the ugly, ugly maths bit)"
      ]
    },
    {
      "cell_type": "code",
      "metadata": {
        "id": "SvMkwqMi3Iay",
        "colab_type": "code",
        "colab": {}
      },
      "source": [
        "import pandas as pd\n",
        "\n",
        "import matplotlib\n",
        "\n",
        "import folium\n",
        "\n",
        "import numpy as np\n",
        "\n",
        "!pip install geopandas\n",
        "import geopandas as gpd\n",
        "\n",
        "!pip install scipy\n",
        "import scipy as sp"
      ],
      "execution_count": 0,
      "outputs": []
    },
    {
      "cell_type": "markdown",
      "metadata": {
        "id": "vIoJAc7EQvbG",
        "colab_type": "text"
      },
      "source": [
        "You should be able to see that there are extra lines of code for each of the geopandas and scipy toolsets.  This is just to bring them into our colab environment."
      ]
    },
    {
      "cell_type": "markdown",
      "metadata": {
        "id": "0gLvwIUfOR1E",
        "colab_type": "text"
      },
      "source": [
        "# Data\n",
        "\n",
        "There are a few different file types that you can use to import your data into a Python notebook like this.  The easiest is a csv file format, and I see no reason to make life any more difficult than that!\n",
        "\n",
        "The data we will be working with was initially obtained from Canmore:\n",
        "\n",
        "https://canmore.org.uk/site/search/result?SIMPLE_KEYWORD=Highland%20clearances&SITECOUNTRY=1\n",
        "\n",
        "So... \n",
        "\n"
      ]
    },
    {
      "cell_type": "code",
      "metadata": {
        "id": "Y5_Nfo5Kjipt",
        "colab_type": "code",
        "colab": {
          "base_uri": "https://localhost:8080/",
          "height": 163
        },
        "outputId": "45d6be57-7447-4432-9822-7526c7bf84b3"
      },
      "source": [
        "Clearance_Data = pd.read_csv('https://github.com/Andylebrocq/arch-proj-1/Clearances_Data1.csv')"
      ],
      "execution_count": 5,
      "outputs": [
        {
          "output_type": "error",
          "ename": "NameError",
          "evalue": "ignored",
          "traceback": [
            "\u001b[0;31m---------------------------------------------------------------------------\u001b[0m",
            "\u001b[0;31mNameError\u001b[0m                                 Traceback (most recent call last)",
            "\u001b[0;32m<ipython-input-5-284eca7ae520>\u001b[0m in \u001b[0;36m<module>\u001b[0;34m()\u001b[0m\n\u001b[0;32m----> 1\u001b[0;31m \u001b[0mClearance_Data\u001b[0m \u001b[0;34m=\u001b[0m \u001b[0mpd\u001b[0m\u001b[0;34m.\u001b[0m\u001b[0mread_csv\u001b[0m\u001b[0;34m(\u001b[0m\u001b[0;34m'https://github.com/Andylebrocq/arch-proj-1/Clearances_Data1.csv'\u001b[0m\u001b[0;34m)\u001b[0m\u001b[0;34m\u001b[0m\u001b[0;34m\u001b[0m\u001b[0m\n\u001b[0m",
            "\u001b[0;31mNameError\u001b[0m: name 'pd' is not defined"
          ]
        }
      ]
    }
  ]
}